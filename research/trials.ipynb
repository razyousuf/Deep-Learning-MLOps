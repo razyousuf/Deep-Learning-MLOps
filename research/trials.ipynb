{
 "cells": [
  {
   "cell_type": "markdown",
   "id": "f7b34d89",
   "metadata": {},
   "source": [
    "### ConfigBox"
   ]
  },
  {
   "cell_type": "markdown",
   "id": "c63db8cf",
   "metadata": {},
   "source": []
  },
  {
   "cell_type": "code",
   "execution_count": 20,
   "id": "423fc8a5",
   "metadata": {},
   "outputs": [
    {
     "name": "stdout",
     "output_type": "stream",
     "text": [
      "{'name': 'raz', 'email': 'raz@test.com'} <class 'dict'>\n"
     ]
    }
   ],
   "source": [
    "import yaml\n",
    "from pathlib import Path\n",
    "import os\n",
    "\n",
    "test_folder = Path(\"testdir\")\n",
    "file = \"test.yaml\"\n",
    "yaml_file_path = Path(os.path.join(test_folder, file))\n",
    "\n",
    "if not yaml_file_path.exists() or yaml_file_path.stat().st_size == 0:\n",
    "    if not test_folder.exists():\n",
    "        os.makedirs(test_folder, exist_ok=True)\n",
    "    yaml_file_path.write_text(\"{name: raz, email: raz@test.com}\")  # valid YAML\n",
    "\n",
    "with yaml_file_path.open('r') as yaml_file:\n",
    "    data = yaml.safe_load(yaml_file) or {}\n",
    "\n",
    "print(data, type(data))\n"
   ]
  },
  {
   "cell_type": "code",
   "execution_count": 15,
   "id": "503a8a09",
   "metadata": {},
   "outputs": [
    {
     "data": {
      "text/plain": [
       "'raz@test.com'"
      ]
     },
     "execution_count": 15,
     "metadata": {},
     "output_type": "execute_result"
    }
   ],
   "source": [
    "from box import ConfigBox\n",
    "\n",
    "config_data = ConfigBox(data)\n",
    "\n",
    "config_data.name\n",
    "config_data.email"
   ]
  },
  {
   "cell_type": "markdown",
   "id": "6578d947",
   "metadata": {},
   "source": [
    "#### Ensure Annotation~"
   ]
  },
  {
   "cell_type": "code",
   "execution_count": 21,
   "id": "287fd8da",
   "metadata": {},
   "outputs": [
    {
     "data": {
      "text/plain": [
       "'44'"
      ]
     },
     "execution_count": 21,
     "metadata": {},
     "output_type": "execute_result"
    }
   ],
   "source": [
    "def get_product(x:int, y:int):\n",
    "    return x*y\n",
    "\n",
    "get_product(x=2, y=\"4\")\n"
   ]
  },
  {
   "cell_type": "code",
   "execution_count": 22,
   "id": "c5a092dc",
   "metadata": {},
   "outputs": [
    {
     "ename": "SyntaxError",
     "evalue": "invalid syntax (2134965706.py, line 4)",
     "output_type": "error",
     "traceback": [
      "\u001b[1;36m  Cell \u001b[1;32mIn[22], line 4\u001b[1;36m\u001b[0m\n\u001b[1;33m    get_product(x=2, y=\"4\")\u001b[0m\n\u001b[1;37m    ^\u001b[0m\n\u001b[1;31mSyntaxError\u001b[0m\u001b[1;31m:\u001b[0m invalid syntax\n"
     ]
    }
   ],
   "source": [
    "from ensure import ensure_annotations\n",
    "\n",
    "@ensure_annotations\n",
    "get_product(x=2, y=\"4\")"
   ]
  },
  {
   "cell_type": "code",
   "execution_count": 23,
   "id": "35107cd4",
   "metadata": {},
   "outputs": [
    {
     "data": {
      "text/plain": [
       "8"
      ]
     },
     "execution_count": 23,
     "metadata": {},
     "output_type": "execute_result"
    }
   ],
   "source": [
    "get_product(x=2, y=4)"
   ]
  },
  {
   "cell_type": "markdown",
   "id": "d8a3b26b",
   "metadata": {},
   "source": [
    "#### Download data from google drive"
   ]
  },
  {
   "cell_type": "code",
   "execution_count": 24,
   "id": "ddf8af4a",
   "metadata": {},
   "outputs": [],
   "source": [
    "import gdown\n",
    "url = \"https://drive.google.com/file/d/13DnA6J2x89AXzI6EJGhBSQwYdY3-q3Pa/view?usp=sharing\"\n",
    "\n"
   ]
  },
  {
   "cell_type": "code",
   "execution_count": 25,
   "id": "b7548e30",
   "metadata": {},
   "outputs": [
    {
     "data": {
      "text/plain": [
       "'13DnA6J2x89AXzI6EJGhBSQwYdY3-q3Pa'"
      ]
     },
     "execution_count": 25,
     "metadata": {},
     "output_type": "execute_result"
    }
   ],
   "source": [
    "file_id = url.split(\"/\")[-2]  # 13DnA6J2x89AXzI6EJGhBSQwYdY3-q3Pa\n",
    "file_id"
   ]
  },
  {
   "cell_type": "code",
   "execution_count": 26,
   "id": "ee8c5db6",
   "metadata": {},
   "outputs": [
    {
     "name": "stderr",
     "output_type": "stream",
     "text": [
      "Downloading...\n",
      "From (original): https://drive.google.com/uc?id=13DnA6J2x89AXzI6EJGhBSQwYdY3-q3Pa\n",
      "From (redirected): https://drive.google.com/uc?id=13DnA6J2x89AXzI6EJGhBSQwYdY3-q3Pa&confirm=t&uuid=471b73d2-1a38-4840-9fed-d7f25bf5d6d0\n",
      "To: f:\\AI\\MLOps\\Deep-Learning-MLOps\\research\\Chest-ct-scan-data.zip\n",
      "100%|██████████| 124M/124M [06:33<00:00, 316kB/s] \n"
     ]
    },
    {
     "data": {
      "text/plain": [
       "'Chest-ct-scan-data.zip'"
      ]
     },
     "execution_count": 26,
     "metadata": {},
     "output_type": "execute_result"
    }
   ],
   "source": [
    "prefix = \"https://drive.google.com/uc?id=\"\n",
    "gdown.download(f\"{prefix}{file_id}\", \"Chest-ct-scan-data.zip\")"
   ]
  },
  {
   "cell_type": "code",
   "execution_count": null,
   "id": "536335d7",
   "metadata": {},
   "outputs": [],
   "source": []
  }
 ],
 "metadata": {
  "kernelspec": {
   "display_name": "chest",
   "language": "python",
   "name": "python3"
  },
  "language_info": {
   "codemirror_mode": {
    "name": "ipython",
    "version": 3
   },
   "file_extension": ".py",
   "mimetype": "text/x-python",
   "name": "python",
   "nbconvert_exporter": "python",
   "pygments_lexer": "ipython3",
   "version": "3.10.16"
  }
 },
 "nbformat": 4,
 "nbformat_minor": 5
}
