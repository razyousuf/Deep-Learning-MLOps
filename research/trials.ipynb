{
 "cells": [
  {
   "cell_type": "markdown",
   "id": "f7b34d89",
   "metadata": {},
   "source": [
    "### ConfigBox"
   ]
  },
  {
   "cell_type": "markdown",
   "id": "c63db8cf",
   "metadata": {},
   "source": []
  },
  {
   "cell_type": "code",
   "execution_count": 20,
   "id": "423fc8a5",
   "metadata": {},
   "outputs": [
    {
     "name": "stdout",
     "output_type": "stream",
     "text": [
      "{'name': 'raz', 'email': 'raz@test.com'} <class 'dict'>\n"
     ]
    }
   ],
   "source": [
    "import yaml\n",
    "from pathlib import Path\n",
    "import os\n",
    "\n",
    "test_folder = Path(\"testdir\")\n",
    "file = \"test.yaml\"\n",
    "yaml_file_path = Path(os.path.join(test_folder, file))\n",
    "\n",
    "if not yaml_file_path.exists() or yaml_file_path.stat().st_size == 0:\n",
    "    if not test_folder.exists():\n",
    "        os.makedirs(test_folder, exist_ok=True)\n",
    "    yaml_file_path.write_text(\"{name: raz, email: raz@test.com}\")  # valid YAML\n",
    "\n",
    "with yaml_file_path.open('r') as yaml_file:\n",
    "    data = yaml.safe_load(yaml_file) or {}\n",
    "\n",
    "print(data, type(data))\n"
   ]
  },
  {
   "cell_type": "code",
   "execution_count": 15,
   "id": "503a8a09",
   "metadata": {},
   "outputs": [
    {
     "data": {
      "text/plain": [
       "'raz@test.com'"
      ]
     },
     "execution_count": 15,
     "metadata": {},
     "output_type": "execute_result"
    }
   ],
   "source": [
    "from box import ConfigBox\n",
    "\n",
    "config_data = ConfigBox(data)\n",
    "\n",
    "config_data.name\n",
    "config_data.email"
   ]
  },
  {
   "cell_type": "markdown",
   "id": "6578d947",
   "metadata": {},
   "source": [
    "#### Ensure Annotation~"
   ]
  },
  {
   "cell_type": "code",
   "execution_count": 21,
   "id": "287fd8da",
   "metadata": {},
   "outputs": [
    {
     "data": {
      "text/plain": [
       "'44'"
      ]
     },
     "execution_count": 21,
     "metadata": {},
     "output_type": "execute_result"
    }
   ],
   "source": [
    "def get_product(x:int, y:int):\n",
    "    return x*y\n",
    "\n",
    "get_product(x=2, y=\"4\")\n"
   ]
  },
  {
   "cell_type": "code",
   "execution_count": 22,
   "id": "c5a092dc",
   "metadata": {},
   "outputs": [
    {
     "ename": "SyntaxError",
     "evalue": "invalid syntax (2134965706.py, line 4)",
     "output_type": "error",
     "traceback": [
      "\u001b[1;36m  Cell \u001b[1;32mIn[22], line 4\u001b[1;36m\u001b[0m\n\u001b[1;33m    get_product(x=2, y=\"4\")\u001b[0m\n\u001b[1;37m    ^\u001b[0m\n\u001b[1;31mSyntaxError\u001b[0m\u001b[1;31m:\u001b[0m invalid syntax\n"
     ]
    }
   ],
   "source": [
    "from ensure import ensure_annotations\n",
    "\n",
    "@ensure_annotations\n",
    "get_product(x=2, y=\"4\")"
   ]
  },
  {
   "cell_type": "code",
   "execution_count": 23,
   "id": "35107cd4",
   "metadata": {},
   "outputs": [
    {
     "data": {
      "text/plain": [
       "8"
      ]
     },
     "execution_count": 23,
     "metadata": {},
     "output_type": "execute_result"
    }
   ],
   "source": [
    "get_product(x=2, y=4)"
   ]
  },
  {
   "cell_type": "code",
   "execution_count": null,
   "id": "ddf8af4a",
   "metadata": {},
   "outputs": [],
   "source": []
  }
 ],
 "metadata": {
  "kernelspec": {
   "display_name": "chest",
   "language": "python",
   "name": "python3"
  },
  "language_info": {
   "codemirror_mode": {
    "name": "ipython",
    "version": 3
   },
   "file_extension": ".py",
   "mimetype": "text/x-python",
   "name": "python",
   "nbconvert_exporter": "python",
   "pygments_lexer": "ipython3",
   "version": "3.10.16"
  }
 },
 "nbformat": 4,
 "nbformat_minor": 5
}
